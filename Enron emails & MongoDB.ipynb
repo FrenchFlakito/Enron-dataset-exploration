{
 "cells": [
  {
   "cell_type": "markdown",
   "metadata": {},
   "source": [
    "# Enron emails"
   ]
  },
  {
   "cell_type": "markdown",
   "metadata": {},
   "source": [
    "Import files"
   ]
  },
  {
   "cell_type": "code",
   "execution_count": 2,
   "metadata": {},
   "outputs": [],
   "source": [
    "# from kaggle.api.kaggle_api_extended import KaggleApi\n",
    "# api = KaggleApi()\n",
    "# api.authenticate()\n",
    "# api.dataset_download_files(\"wcukierski/enron-email-dataset\")"
   ]
  },
  {
   "cell_type": "code",
   "execution_count": 3,
   "metadata": {},
   "outputs": [],
   "source": [
    "import pandas as pd\n",
    "import numpy as np\n",
    "import pymongo"
   ]
  },
  {
   "cell_type": "code",
   "execution_count": 11,
   "metadata": {},
   "outputs": [],
   "source": [
    "emails_df = pd.read_csv(\"emails.csv\", nrows=10000)"
   ]
  },
  {
   "cell_type": "code",
   "execution_count": 12,
   "metadata": {},
   "outputs": [
    {
     "name": "stdout",
     "output_type": "stream",
     "text": [
      "(10000, 2)\n"
     ]
    },
    {
     "data": {
      "text/html": [
       "<div>\n",
       "<style scoped>\n",
       "    .dataframe tbody tr th:only-of-type {\n",
       "        vertical-align: middle;\n",
       "    }\n",
       "\n",
       "    .dataframe tbody tr th {\n",
       "        vertical-align: top;\n",
       "    }\n",
       "\n",
       "    .dataframe thead th {\n",
       "        text-align: right;\n",
       "    }\n",
       "</style>\n",
       "<table border=\"1\" class=\"dataframe\">\n",
       "  <thead>\n",
       "    <tr style=\"text-align: right;\">\n",
       "      <th></th>\n",
       "      <th>file</th>\n",
       "      <th>message</th>\n",
       "    </tr>\n",
       "  </thead>\n",
       "  <tbody>\n",
       "    <tr>\n",
       "      <th>0</th>\n",
       "      <td>allen-p/_sent_mail/1.</td>\n",
       "      <td>Message-ID: &lt;18782981.1075855378110.JavaMail.e...</td>\n",
       "    </tr>\n",
       "    <tr>\n",
       "      <th>1</th>\n",
       "      <td>allen-p/_sent_mail/10.</td>\n",
       "      <td>Message-ID: &lt;15464986.1075855378456.JavaMail.e...</td>\n",
       "    </tr>\n",
       "    <tr>\n",
       "      <th>2</th>\n",
       "      <td>allen-p/_sent_mail/100.</td>\n",
       "      <td>Message-ID: &lt;24216240.1075855687451.JavaMail.e...</td>\n",
       "    </tr>\n",
       "  </tbody>\n",
       "</table>\n",
       "</div>"
      ],
      "text/plain": [
       "                      file                                            message\n",
       "0    allen-p/_sent_mail/1.  Message-ID: <18782981.1075855378110.JavaMail.e...\n",
       "1   allen-p/_sent_mail/10.  Message-ID: <15464986.1075855378456.JavaMail.e...\n",
       "2  allen-p/_sent_mail/100.  Message-ID: <24216240.1075855687451.JavaMail.e..."
      ]
     },
     "execution_count": 12,
     "metadata": {},
     "output_type": "execute_result"
    }
   ],
   "source": [
    "print(emails_df.shape)\n",
    "emails_df.head(3)"
   ]
  },
  {
   "cell_type": "code",
   "execution_count": 131,
   "metadata": {},
   "outputs": [
    {
     "name": "stdout",
     "output_type": "stream",
     "text": [
      "Message-ID: <1776521.1075855688576.JavaMail.evans@thyme>\n",
      "Date: Wed, 6 Sep 2000 04:46:00 -0700 (PDT)\n",
      "From: phillip.allen@enron.com\n",
      "To: thomas.martin@enron.com, mike.grigsby@enron.com, keith.holst@enron.com, \n",
      "\tjay.reitmeyer@enron.com, frank.ermis@enron.com\n",
      "Subject: Wow\n",
      "Mime-Version: 1.0\n",
      "Content-Type: text/plain; charset=us-ascii\n",
      "Content-Transfer-Encoding: 7bit\n",
      "X-From: Phillip K Allen\n",
      "X-To: Thomas A Martin, Mike Grigsby, Keith Holst, Jay Reitmeyer, Frank Ermis\n",
      "X-cc: \n",
      "X-bcc: \n",
      "X-Folder: \\Phillip_Allen_Dec2000\\Notes Folders\\'sent mail\n",
      "X-Origin: Allen-P\n",
      "X-FileName: pallen.nsf\n",
      "\n",
      "---------------------- Forwarded by Phillip K Allen/HOU/ECT on 09/06/2000 \n",
      "10:49 AM ---------------------------\n",
      "\n",
      "\n",
      "Jeff Richter\n",
      "09/06/2000 07:39 AM\n",
      "To: Phillip K Allen/HOU/ECT@ECT\n",
      "cc:  \n",
      "Subject: Wow\n",
      "\n",
      "\n",
      "---------------------- Forwarded by Jeff Richter/HOU/ECT on 09/06/2000 09:45 \n",
      "AM ---------------------------\n",
      "To: Mike Swerzbin/HOU/ECT@ECT, Robert Badeer/HOU/ECT@ECT, Sean \n",
      "Crandall/PDX/ECT@ECT, Tim Belden/HOU/ECT@ECT, Jeff Richter/HOU/ECT@ECT, John \n",
      "M Forney/HOU/ECT@ECT, Matt Motley/PDX/ECT@ECT, Tom Alonso/PDX/ECT@ECT, Mark \n",
      "Fischer/PDX/ECT@ECT\n",
      "cc:  \n",
      "Subject: Wow\n",
      "\n",
      "\n",
      "---------------------- Forwarded by Tim Belden/HOU/ECT on 09/06/2000 07:27 AM \n",
      "---------------------------\n",
      "   \n",
      "\tEnron Capital & Trade Resources Corp.\n",
      "\t\n",
      "\tFrom:  Kevin M Presto                           09/05/2000 01:59 PM\n",
      "\t\n",
      "\n",
      "To: Tim Belden/HOU/ECT@ECT\n",
      "cc: Rogers Herndon/HOU/ECT@ect, John Zufferli/HOU/ECT@ECT, Lloyd \n",
      "Will/HOU/ECT@ECT, Doug Gilbert-Smith/Corp/Enron@ENRON, Mike \n",
      "Swerzbin/HOU/ECT@ECT \n",
      "Subject: Wow\n",
      "\n",
      "Do not underestimate the effects of the Internet economy on load growth.  I \n",
      "have been preaching the tremendous growth described below for the last year.  \n",
      "The utility infrastructure simply cannot handle these loads at the \n",
      "distribution level and ultimatley distributed generation will be required for \n",
      "power quality reasons.\n",
      "\n",
      "The City of Austin, TX has experienced 300+ MW of load growth this year due \n",
      "to server farms and technology companies.  There is a 100 MW server farm \n",
      "trying to hook up to HL&P as we speak and they cannot deliver for 12 months \n",
      "due to distribution infrastructure issues.  Obviously, Seattle, Porltand, \n",
      "Boise, Denver, San Fran and San Jose in your markets are in for a rude \n",
      "awakening in the next 2-3 years.\n",
      "---------------------- Forwarded by Kevin M Presto/HOU/ECT on 09/05/2000 \n",
      "03:41 PM ---------------------------\n",
      "   \n",
      "\tEnron North America Corp.\n",
      "\t\n",
      "\tFrom:  John D Suarez                           09/05/2000 01:45 PM\n",
      "\t\n",
      "\n",
      "To: Kevin M Presto/HOU/ECT@ECT, Mark Dana Davis/HOU/ECT@ECT, Paul J \n",
      "Broderick/HOU/ECT@ECT, Jeffrey Miller/NA/Enron@Enron\n",
      "cc:  \n",
      "Subject: \n",
      "\n",
      "\n",
      "---------------------- Forwarded by John D Suarez/HOU/ECT on 09/05/2000 01:46 \n",
      "PM ---------------------------\n",
      "\n",
      "\n",
      "George Hopley\n",
      "09/05/2000 11:41 AM\n",
      "To: John D Suarez/HOU/ECT@ECT, Suresh Vasan/Enron Communications@ENRON \n",
      "COMMUNICATIONS@ENRON\n",
      "cc:  \n",
      "Subject: \n",
      "\n",
      "Internet Data Gain Is a Major Power Drain on\n",
      "                  Local Utilities \n",
      "\n",
      "                  ( September 05, 2000 ) \n",
      "\n",
      "\n",
      "                  In 1997, a little-known Silicon Valley company called Exodus\n",
      "                  Communications opened a 15,000-square-foot data center in \n",
      "Tukwila. \n",
      "\n",
      "                       The mission was to handle the Internet traffic and \n",
      "computer servers for the\n",
      "                  region's growing number of dot-coms. \n",
      "\n",
      "                       Fast-forward to summer 2000. Exodus is now wrapping up \n",
      "construction\n",
      "                  on a new 13-acre, 576,000-square-foot data center less than \n",
      "a mile from its\n",
      "                  original facility. Sitting at the confluence of several \n",
      "fiber optic backbones, the\n",
      "                  Exodus plant will consume enough power for a small town and \n",
      "eventually\n",
      "                  house Internet servers for firms such as Avenue A, \n",
      "Microsoft and Onvia.com. \n",
      "\n",
      "                       Exodus is not the only company building massive data \n",
      "centers near Seattle.\n",
      "                  More than a dozen companies -- with names like AboveNet, \n",
      "Globix and\n",
      "                  HostPro -- are looking for facilities here that will house \n",
      "the networking\n",
      "                  equipment of the Internet economy. \n",
      "\n",
      "                       It is a big business that could have an effect on \n",
      "everything from your\n",
      "                  monthly electric bill to the ease with which you access \n",
      "your favorite Web sites.\n",
      "\n",
      "                       Data centers, also known as co-location facilities and \n",
      "server farms, are\n",
      "                  sprouting at such a furious pace in Tukwila and the Kent \n",
      "Valley that some\n",
      "                  have expressed concern over whether Seattle City Light and \n",
      "Puget Sound\n",
      "                  Energy can handle the power necessary to run these 24-hour, \n",
      "high-security\n",
      "                  facilities. \n",
      "\n",
      "                       \"We are talking to about half a dozen customers that \n",
      "are requesting 445\n",
      "                  megawatts of power in a little area near Southcenter Mall,\" \n",
      "said Karl\n",
      "                  Karzmar, manager of revenue requirements for Puget Sound \n",
      "Energy. \"That is\n",
      "                  the equivalent of six oil refineries.\" \n",
      "\n",
      "                       A relatively new phenomenon in the utility business, \n",
      "the rise of the Internet\n",
      "                  data center has some utility veterans scratching their \n",
      "heads. \n",
      "\n",
      "                       Puget Sound Energy last week asked the Washington \n",
      "Utilities and\n",
      "                  Transportation Commission to accept a tariff on the new \n",
      "data centers. The\n",
      "                  tariff is designed to protect the company's existing \n",
      "residential and business\n",
      "                  customers from footing the bill for the new base stations \n",
      "necessary to support\n",
      "                  the projects. Those base stations could cost as much as $20 \n",
      "million each,\n",
      "                  Karzmar said. \n",
      "\n",
      "                       Not to be left behind, Seattle City Light plans to \n",
      "bring up the data center\n",
      "                  issue on Thursday at the Seattle City Council meeting. \n",
      "\n",
      "                       For the utilities that provide power to homes, \n",
      "businesses and schools in the\n",
      "                  region, this is a new and complex issue. \n",
      "\n",
      "                       On one hand, the data centers -- with their amazing \n",
      "appetite for power --\n",
      "                  represent potentially lucrative business customers. The \n",
      "facilities run 24 hours a\n",
      "                  day, seven days a week, and therefore could become a \n",
      "constant revenue\n",
      "                  stream. On the other hand, they require so much energy that \n",
      "they could\n",
      "                  potentially flood the utilities with exorbitant capital \n",
      "expenditures. \n",
      "\n",
      "                       Who will pay for those expenditures and what it will \n",
      "mean for power rates\n",
      "                  in the area is still open to debate. \n",
      "\n",
      "                       \"These facilities are what we call extremely dense \n",
      "loads,\" said Bob Royer,\n",
      "                  director of communications and public affairs at Seattle \n",
      "City Light. \n",
      "\n",
      "                       \"The entire University of Washington, from stadium \n",
      "lights at the football\n",
      "                  game to the Medical School, averages 31 megawatts per day. \n",
      "We have data\n",
      "                  center projects in front of us that are asking for 30, 40 \n",
      "and 50 megawatts.\" \n",
      "\n",
      "                       With more than 1.5 million square feet, the Intergate \n",
      "complex in Tukwila is\n",
      "                  one of the biggest data centers. Sabey Corp. re-purchased \n",
      "the 1.35 million\n",
      "                  square-foot Intergate East facility last September from \n",
      "Boeing Space &\n",
      "                  Defense. In less than 12 months, the developer has leased \n",
      "92 percent of the\n",
      "                  six-building complex to seven different co-location \n",
      "companies. \n",
      "\n",
      "                       \"It is probably the largest data center park in the \n",
      "country,\" boasts Laurent\n",
      "                  Poole, chief operating officer at Sabey. Exodus, ICG \n",
      "Communications,\n",
      "                  NetStream Communications, Pac West Telecomm and Zama \n",
      "Networks all\n",
      "                  lease space in the office park. \n",
      "\n",
      "                       After building Exodus' first Tukwila facility in 1997, \n",
      "Sabey has become an\n",
      "                  expert in the arena and now has facilities either under \n",
      "management or\n",
      "                  development in Los Angeles, Spokane and Denver. Poole \n",
      "claims his firm is\n",
      "                  one of the top four builders of Internet data centers in \n",
      "the country. \n",
      "\n",
      "                       As more people access the Internet and conduct \n",
      "bandwidth-heavy tasks\n",
      "                  such as listening to online music, Poole said the need for \n",
      "co-location space in\n",
      "                  Seattle continues to escalate. \n",
      "\n",
      "                       But it is not just Seattle. The need for data center \n",
      "space is growing at a\n",
      "                  rapid clip at many technology hubs throughout the country, \n",
      "causing similar\n",
      "                  concerns among utilities in places such as Texas and \n",
      "California. \n",
      "\n",
      "                       Exodus, one of the largest providers of co-location \n",
      "space, plans to nearly\n",
      "                  double the amount of space it has by the end of the year. \n",
      "While companies\n",
      "                  such as Amazon.com run their own server farms, many \n",
      "high-tech companies\n",
      "                  have decided to outsource the operations to companies such \n",
      "as Exodus that\n",
      "                  may be better prepared for dealing with Internet traffic \n",
      "management. \n",
      "\n",
      "                       \"We have 2 million square feet of space under \n",
      "construction and we plan to\n",
      "                  double our size in the next nine months , yet there is more \n",
      "demand right now\n",
      "                  than data center space,\" said Steve Porter, an account \n",
      "executive at Exodus in\n",
      "                  Seattle. \n",
      "\n",
      "                       The booming market for co-location space has left some \n",
      "in the local utility\n",
      "                  industry perplexed. \n",
      "\n",
      "                       \"It accelerates in a quantum way what you have to do \n",
      "to serve the growth,\"\n",
      "                  said Seattle City Light's Royer. \"The utility industry is \n",
      "almost stunned by this, in\n",
      "                  a way.\" \n",
      "\n",
      "\n",
      "\n",
      "\n",
      "\n",
      "\n",
      "\n",
      "\n",
      "\n"
     ]
    }
   ],
   "source": [
    "print(emails_df['message'][63])"
   ]
  },
  {
   "cell_type": "code",
   "execution_count": 18,
   "metadata": {},
   "outputs": [
    {
     "name": "stdout",
     "output_type": "stream",
     "text": [
      "(10000, 2)\n"
     ]
    }
   ],
   "source": [
    "emails_df.drop_duplicates(subset=\"message\", inplace=True)\n",
    "emails_df.dropna(axis=1, inplace=True)\n",
    "print(emails_df.shape)"
   ]
  },
  {
   "cell_type": "markdown",
   "metadata": {},
   "source": [
    "### A few figures"
   ]
  },
  {
   "cell_type": "code",
   "execution_count": 46,
   "metadata": {
    "scrolled": true
   },
   "outputs": [
    {
     "name": "stdout",
     "output_type": "stream",
     "text": [
      "Number of 'na' values' in dataset messages:\n",
      "0\n",
      "Number of duplicates in dataset messages:\n",
      "0\n",
      "Average email length (medata included)\n",
      "2363.287\n",
      "Median email length (medata included)\n",
      "1164.0\n"
     ]
    }
   ],
   "source": [
    "print(\"Number of 'na' values' in dataset messages:\")\n",
    "print(pd.isna(emails_df[\"message\"]).sum())\n",
    "\n",
    "print(\"Number of duplicates in dataset messages:\")\n",
    "print(emails_df.duplicated(subset=\"message\").sum())\n",
    "\n",
    "print(\"Average email length (medata included)\")\n",
    "print(emails_df[\"message\"].apply(len).mean())\n",
    "print(\"Median email length (medata included)\")\n",
    "print(emails_df[\"message\"].apply(len).median())\n"
   ]
  },
  {
   "cell_type": "markdown",
   "metadata": {},
   "source": [
    "Pas de doublon ni du \"null\" a priori"
   ]
  },
  {
   "cell_type": "markdown",
   "metadata": {},
   "source": [
    "## Let's put all this into a MongoDB database!"
   ]
  },
  {
   "cell_type": "code",
   "execution_count": 83,
   "metadata": {},
   "outputs": [],
   "source": [
    "client = pymongo.MongoClient(host=\"127.0.0.1\",\n",
    "                     port=27017)\n",
    "\n",
    "db = client[\"simplon\"]\n",
    "col = db[\"raw_mail\"]"
   ]
  },
  {
   "cell_type": "code",
   "execution_count": 107,
   "metadata": {},
   "outputs": [],
   "source": [
    "# make a Python list with all items\n",
    "mongo_docs = [{\"filename\": emails_df[\"file\"].iloc[row],\n",
    "               \"message\": emails_df[\"message\"].iloc[row]} for row in range(emails_df.shape[0])]\n",
    "\n",
    "# mongo_docs[0]"
   ]
  },
  {
   "cell_type": "code",
   "execution_count": 108,
   "metadata": {},
   "outputs": [
    {
     "name": "stdout",
     "output_type": "stream",
     "text": [
      "10000 inserted documents.\n",
      "An example: {'_id': ObjectId('5e831695c3a1888d5f8650fa'), 'filename': 'allen-p/_sent_mail/1.', 'message': \"Message-ID: <18782981.1075855378110.JavaMail.evans@thyme>\\nDate: Mon, 14 May 2001 16:39:00 -0700 (PDT)\\nFrom: phillip.allen@enron.com\\nTo: tim.belden@enron.com\\nSubject: \\nMime-Version: 1.0\\nContent-Type: text/plain; charset=us-ascii\\nContent-Transfer-Encoding: 7bit\\nX-From: Phillip K Allen\\nX-To: Tim Belden <Tim Belden/Enron@EnronXGate>\\nX-cc: \\nX-bcc: \\nX-Folder: \\\\Phillip_Allen_Jan2002_1\\\\Allen, Phillip K.\\\\'Sent Mail\\nX-Origin: Allen-P\\nX-FileName: pallen (Non-Privileged).pst\\n\\nHere is our forecast\\n\\n \"}\n"
     ]
    }
   ],
   "source": [
    "# insert the list of documents into the Mongo DB\n",
    "result = col.insert_many(mongo_docs)\n",
    "print(len(result.inserted_ids), \"inserted documents.\")\n",
    "print(\"An example:\", col.find_one())"
   ]
  },
  {
   "cell_type": "markdown",
   "metadata": {},
   "source": [
    "## A little of cleaning"
   ]
  },
  {
   "cell_type": "markdown",
   "metadata": {},
   "source": [
    "(We do the cleaning on the dataframe)"
   ]
  },
  {
   "cell_type": "markdown",
   "metadata": {},
   "source": [
    "### Pure Python - didn't work"
   ]
  },
  {
   "cell_type": "code",
   "execution_count": 133,
   "metadata": {},
   "outputs": [
    {
     "data": {
      "text/plain": [
       "False"
      ]
     },
     "execution_count": 133,
     "metadata": {},
     "output_type": "execute_result"
    }
   ],
   "source": [
    "def get_text(row_idx):\n",
    "    '''Returns the content from an email string object'''\n",
    "    filename = emails_df[\"file\"].iloc[row_idx]\n",
    "    msg = emails_df[\"message\"].iloc[row_idx]\n",
    "    msg_list = msg.split(\"\\n\")\n",
    "    dic = {\"filename\": filename}\n",
    "    \n",
    "    for row in range(len(msg_list)):\n",
    "        str_row = msg_list[row]\n",
    "\n",
    "        if str_row != \"\":\n",
    "            sep = str_row.find(\": \")\n",
    "            k = str_row[:sep]\n",
    "            v = str_row[sep+2 :]\n",
    "            if v != \"\":\n",
    "                dic[k] = v\n",
    "        else:\n",
    "            dic[\"body\"] = \"\\n\".join(msg_list[row + 1:-1])\n",
    "            break\n",
    "    return dic\n",
    "\n",
    "# test example\n",
    "#print(get_text(0).keys())\n",
    "\n",
    "# Check if all the format is correct\n",
    "def keys_ok(any_dic):\n",
    "    for key in any_dic.keys():\n",
    "        if key.find(\".\") != -1:\n",
    "#            print(any_dic)\n",
    "            return False\n",
    "    return True\n",
    "\n",
    "all([keys_ok(get_text(i)) for i in range(emails_df.shape[0])])"
   ]
  }
 ],
 "metadata": {
  "kernelspec": {
   "display_name": "Python 3",
   "language": "python",
   "name": "python3"
  },
  "language_info": {
   "codemirror_mode": {
    "name": "ipython",
    "version": 3
   },
   "file_extension": ".py",
   "mimetype": "text/x-python",
   "name": "python",
   "nbconvert_exporter": "python",
   "pygments_lexer": "ipython3",
   "version": "3.7.6"
  }
 },
 "nbformat": 4,
 "nbformat_minor": 4
}
