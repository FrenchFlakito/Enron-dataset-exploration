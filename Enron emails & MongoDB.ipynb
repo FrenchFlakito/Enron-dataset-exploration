{
 "cells": [
  {
   "cell_type": "markdown",
   "metadata": {},
   "source": [
    "# Enron emails"
   ]
  },
  {
   "cell_type": "markdown",
   "metadata": {},
   "source": [
    "## Import files"
   ]
  },
  {
   "cell_type": "code",
   "execution_count": 80,
   "metadata": {},
   "outputs": [],
   "source": [
    "# from kaggle.api.kaggle_api_extended import KaggleApi\n",
    "# api = KaggleApi()\n",
    "# api.authenticate()\n",
    "# api.dataset_download_files(\"wcukierski/enron-email-dataset\")"
   ]
  },
  {
   "cell_type": "code",
   "execution_count": 81,
   "metadata": {},
   "outputs": [],
   "source": [
    "import pandas as pd\n",
    "import numpy as np\n",
    "import pymongo"
   ]
  },
  {
   "cell_type": "code",
   "execution_count": 82,
   "metadata": {},
   "outputs": [],
   "source": [
    "emails_df = pd.read_csv(\"emails.csv\", nrows=78000)"
   ]
  },
  {
   "cell_type": "code",
   "execution_count": 83,
   "metadata": {},
   "outputs": [
    {
     "name": "stdout",
     "output_type": "stream",
     "text": [
      "(78000, 2)\n"
     ]
    },
    {
     "data": {
      "text/html": [
       "<div>\n",
       "<style scoped>\n",
       "    .dataframe tbody tr th:only-of-type {\n",
       "        vertical-align: middle;\n",
       "    }\n",
       "\n",
       "    .dataframe tbody tr th {\n",
       "        vertical-align: top;\n",
       "    }\n",
       "\n",
       "    .dataframe thead th {\n",
       "        text-align: right;\n",
       "    }\n",
       "</style>\n",
       "<table border=\"1\" class=\"dataframe\">\n",
       "  <thead>\n",
       "    <tr style=\"text-align: right;\">\n",
       "      <th></th>\n",
       "      <th>file</th>\n",
       "      <th>message</th>\n",
       "    </tr>\n",
       "  </thead>\n",
       "  <tbody>\n",
       "    <tr>\n",
       "      <th>0</th>\n",
       "      <td>allen-p/_sent_mail/1.</td>\n",
       "      <td>Message-ID: &lt;18782981.1075855378110.JavaMail.e...</td>\n",
       "    </tr>\n",
       "    <tr>\n",
       "      <th>1</th>\n",
       "      <td>allen-p/_sent_mail/10.</td>\n",
       "      <td>Message-ID: &lt;15464986.1075855378456.JavaMail.e...</td>\n",
       "    </tr>\n",
       "    <tr>\n",
       "      <th>2</th>\n",
       "      <td>allen-p/_sent_mail/100.</td>\n",
       "      <td>Message-ID: &lt;24216240.1075855687451.JavaMail.e...</td>\n",
       "    </tr>\n",
       "  </tbody>\n",
       "</table>\n",
       "</div>"
      ],
      "text/plain": [
       "                      file                                            message\n",
       "0    allen-p/_sent_mail/1.  Message-ID: <18782981.1075855378110.JavaMail.e...\n",
       "1   allen-p/_sent_mail/10.  Message-ID: <15464986.1075855378456.JavaMail.e...\n",
       "2  allen-p/_sent_mail/100.  Message-ID: <24216240.1075855687451.JavaMail.e..."
      ]
     },
     "execution_count": 83,
     "metadata": {},
     "output_type": "execute_result"
    }
   ],
   "source": [
    "print(emails_df.shape)\n",
    "emails_df.head(3)"
   ]
  },
  {
   "cell_type": "code",
   "execution_count": 84,
   "metadata": {},
   "outputs": [
    {
     "name": "stdout",
     "output_type": "stream",
     "text": [
      "Message-ID: <13505866.1075863688222.JavaMail.evans@thyme>\n",
      "Date: Mon, 23 Oct 2000 06:13:00 -0700 (PDT)\n",
      "From: phillip.allen@enron.com\n",
      "To: randall.gay@enron.com\n",
      "Subject: \n",
      "Mime-Version: 1.0\n",
      "Content-Type: text/plain; charset=us-ascii\n",
      "Content-Transfer-Encoding: 7bit\n",
      "X-From: Phillip K Allen\n",
      "X-To: Randall L Gay\n",
      "X-cc: \n",
      "X-bcc: \n",
      "X-Folder: \\Phillip_Allen_Dec2000\\Notes Folders\\'sent mail\n",
      "X-Origin: Allen-P\n",
      "X-FileName: pallen.nsf\n",
      "\n",
      "Randy,\n",
      "\n",
      " Can you send me a schedule of the salary and level of everyone in the \n",
      "scheduling group.  Plus your thoughts on any changes that need to be made.  \n",
      "(Patti S for example)\n",
      "\n",
      "Phillip\n"
     ]
    }
   ],
   "source": [
    "print(emails_df['message'][3])"
   ]
  },
  {
   "cell_type": "markdown",
   "metadata": {},
   "source": [
    "### A few figures"
   ]
  },
  {
   "cell_type": "code",
   "execution_count": 85,
   "metadata": {
    "scrolled": true
   },
   "outputs": [
    {
     "name": "stdout",
     "output_type": "stream",
     "text": [
      "Number of 'na' values' in dataset messages:\n",
      "0\n",
      "Number of duplicates in dataset messages:\n",
      "0\n",
      "Average email length (medata included)\n",
      "3501.264205128205\n",
      "Median email length (medata included)\n",
      "1632.0\n"
     ]
    }
   ],
   "source": [
    "print(\"Number of 'na' values' in dataset messages:\")\n",
    "print(pd.isna(emails_df[\"message\"]).sum())\n",
    "\n",
    "print(\"Number of duplicates in dataset messages:\")\n",
    "print(emails_df.duplicated(subset=\"message\").sum())\n",
    "\n",
    "print(\"Average email length (medata included)\")\n",
    "print(emails_df[\"message\"].apply(len).mean())\n",
    "print(\"Median email length (medata included)\")\n",
    "print(emails_df[\"message\"].apply(len).median())\n"
   ]
  },
  {
   "cell_type": "markdown",
   "metadata": {},
   "source": [
    "## Injection into MongoDB"
   ]
  },
  {
   "cell_type": "code",
   "execution_count": 86,
   "metadata": {},
   "outputs": [],
   "source": [
    "client = pymongo.MongoClient(host=\"127.0.0.1\",\n",
    "                     port=27017)\n",
    "\n",
    "db = client[\"simplon\"]\n",
    "col = db[\"raw_mail\"]\n",
    "col.drop() #in case we run the cell several times"
   ]
  },
  {
   "cell_type": "code",
   "execution_count": 87,
   "metadata": {},
   "outputs": [],
   "source": [
    "# make a Python list with all items\n",
    "mongo_docs = [{\"filename\": emails_df[\"file\"].iloc[row],\n",
    "               \"message\": emails_df[\"message\"].iloc[row]} for row in range(emails_df.shape[0])]\n",
    "\n",
    "# mongo_docs[0]"
   ]
  },
  {
   "cell_type": "code",
   "execution_count": 88,
   "metadata": {},
   "outputs": [
    {
     "name": "stdout",
     "output_type": "stream",
     "text": [
      "78000 inserted documents.\n",
      "An example: {'_id': ObjectId('5e8595942633d035f648cbac'), 'filename': 'allen-p/_sent_mail/1.', 'message': \"Message-ID: <18782981.1075855378110.JavaMail.evans@thyme>\\nDate: Mon, 14 May 2001 16:39:00 -0700 (PDT)\\nFrom: phillip.allen@enron.com\\nTo: tim.belden@enron.com\\nSubject: \\nMime-Version: 1.0\\nContent-Type: text/plain; charset=us-ascii\\nContent-Transfer-Encoding: 7bit\\nX-From: Phillip K Allen\\nX-To: Tim Belden <Tim Belden/Enron@EnronXGate>\\nX-cc: \\nX-bcc: \\nX-Folder: \\\\Phillip_Allen_Jan2002_1\\\\Allen, Phillip K.\\\\'Sent Mail\\nX-Origin: Allen-P\\nX-FileName: pallen (Non-Privileged).pst\\n\\nHere is our forecast\\n\\n \"}\n"
     ]
    }
   ],
   "source": [
    "# insert the list of documents into the Mongo DB\n",
    "result = col.insert_many(mongo_docs)\n",
    "print(len(result.inserted_ids), \"inserted documents.\")\n",
    "print(\"An example:\", col.find_one())"
   ]
  },
  {
   "cell_type": "markdown",
   "metadata": {},
   "source": [
    "## A little bit of cleaning"
   ]
  },
  {
   "cell_type": "markdown",
   "metadata": {},
   "source": [
    "(We do the cleaning on the dataframe)"
   ]
  },
  {
   "cell_type": "markdown",
   "metadata": {},
   "source": [
    "### Pure Python - didn't work"
   ]
  },
  {
   "cell_type": "code",
   "execution_count": 89,
   "metadata": {},
   "outputs": [
    {
     "data": {
      "text/plain": [
       "False"
      ]
     },
     "execution_count": 89,
     "metadata": {},
     "output_type": "execute_result"
    }
   ],
   "source": [
    "def get_text(row_idx):\n",
    "    '''Returns the content from an email string object'''\n",
    "    filename = emails_df[\"file\"].iloc[row_idx]\n",
    "    msg = emails_df[\"message\"].iloc[row_idx]\n",
    "    msg_list = msg.split(\"\\n\")\n",
    "    dic = {\"filename\": filename}\n",
    "    \n",
    "    for row in range(len(msg_list)):\n",
    "        str_row = msg_list[row]\n",
    "\n",
    "        if str_row != \"\":\n",
    "            sep = str_row.find(\": \")\n",
    "            k = str_row[:sep]\n",
    "            v = str_row[sep+2 :]\n",
    "            if v != \"\":\n",
    "                dic[k] = v\n",
    "        else:\n",
    "            dic[\"body\"] = \"\\n\".join(msg_list[row + 1:-1])\n",
    "            break\n",
    "    return dic\n",
    "\n",
    "# test example\n",
    "#print(get_text(0).keys())\n",
    "\n",
    "# Check if all the format is correct\n",
    "def keys_ok(any_dic):\n",
    "    for key in any_dic.keys():\n",
    "        if key.find(\".\") != -1:\n",
    "#            print(any_dic)\n",
    "            return False\n",
    "    return True\n",
    "\n",
    "all([keys_ok(get_text(i)) for i in range(emails_df.shape[0])])"
   ]
  },
  {
   "cell_type": "markdown",
   "metadata": {},
   "source": [
    "### Regex cleaning"
   ]
  },
  {
   "cell_type": "code",
   "execution_count": 90,
   "metadata": {},
   "outputs": [],
   "source": [
    "import re"
   ]
  },
  {
   "cell_type": "code",
   "execution_count": 91,
   "metadata": {},
   "outputs": [],
   "source": [
    "# rappel\n",
    "# print(emails_df['message'][101])"
   ]
  },
  {
   "cell_type": "code",
   "execution_count": 93,
   "metadata": {},
   "outputs": [],
   "source": [
    "def msg_to_dic(cmplte_msg):\n",
    "    meta_and_body = re.split(r'\\n\\n', cmplte_msg, maxsplit=1)\n",
    "    meta = meta_and_body[0]\n",
    "    body = meta_and_body[1]\n",
    "    meta_keys = re.findall(r'(.+): .+', meta, flags=re.MULTILINE)\n",
    "    meta_vals = re.findall(r'.+: (.+)', meta, flags=re.MULTILINE)\n",
    "\n",
    "    dic = dict(zip(meta_keys, meta_vals))\n",
    "    dic[\"body\"] = body\n",
    "    return dic\n",
    "\n",
    "# msg_to_dic(emails_df['message'][77376])"
   ]
  },
  {
   "cell_type": "code",
   "execution_count": 99,
   "metadata": {},
   "outputs": [],
   "source": [
    "col2 = db[\"parsed_mail\"]\n",
    "\n",
    "# Erase the collection's record if needed - we should insert into a blank database\n",
    "col2.drop()\n",
    "\n",
    "# create the list of documents to be created\n",
    "mongo_docs = [{\"filename\": emails_df[\"file\"][row],\n",
    "#               \"message\": msg_to_dic(emails_df[\"message\"][row])} for row in range(len(emails_df))]\n",
    "               \"message\": msg_to_dic(emails_df[\"message\"][row])} for row in range(2000)]"
   ]
  },
  {
   "cell_type": "code",
   "execution_count": 100,
   "metadata": {},
   "outputs": [
    {
     "name": "stdout",
     "output_type": "stream",
     "text": [
      "2000 inserted documents.\n"
     ]
    }
   ],
   "source": [
    "# insert the list of documents into the Mongo DB\n",
    "result = col2.insert_many(mongo_docs)\n",
    "print(len(result.inserted_ids), \"inserted documents.\")"
   ]
  },
  {
   "cell_type": "code",
   "execution_count": 101,
   "metadata": {},
   "outputs": [
    {
     "name": "stdout",
     "output_type": "stream",
     "text": [
      "An example: {'_id': ObjectId('5e859a132633d035f64a042c'), 'filename': 'allen-p/_sent_mail/1.', 'message': {'Message-ID': '<18782981.1075855378110.JavaMail.evans@thyme>', 'Date': 'Mon, 14 May 2001 16:39:00 -0700 (PDT)', 'From': 'phillip.allen@enron.com', 'To': 'tim.belden@enron.com', 'Mime-Version': '1.0', 'Content-Type': 'text/plain; charset=us-ascii', 'Content-Transfer-Encoding': '7bit', 'X-From': 'Phillip K Allen', 'X-To': 'Tim Belden <Tim Belden/Enron@EnronXGate>', 'X-Folder': \"\\\\Phillip_Allen_Jan2002_1\\\\Allen, Phillip K.\\\\'Sent Mail\", 'X-Origin': 'Allen-P', 'X-FileName': 'pallen (Non-Privileged).pst', 'body': 'Here is our forecast\\n\\n '}}\n"
     ]
    }
   ],
   "source": [
    "print(\"An example:\", col2.find_one())"
   ]
  },
  {
   "cell_type": "markdown",
   "metadata": {},
   "source": [
    "Seems to be working! :-)"
   ]
  },
  {
   "cell_type": "markdown",
   "metadata": {},
   "source": [
    "## Querying MongoDB in Python"
   ]
  },
  {
   "cell_type": "code",
   "execution_count": 102,
   "metadata": {},
   "outputs": [],
   "source": [
    "import pprint"
   ]
  },
  {
   "cell_type": "code",
   "execution_count": 105,
   "metadata": {},
   "outputs": [
    {
     "name": "stdout",
     "output_type": "stream",
     "text": [
      "{'_id': ObjectId('5e859a132633d035f64a042c'),\n",
      " 'filename': 'allen-p/_sent_mail/1.',\n",
      " 'message': {'Content-Transfer-Encoding': '7bit',\n",
      "             'Content-Type': 'text/plain; charset=us-ascii',\n",
      "             'Date': 'Mon, 14 May 2001 16:39:00 -0700 (PDT)',\n",
      "             'From': 'phillip.allen@enron.com',\n",
      "             'Message-ID': '<18782981.1075855378110.JavaMail.evans@thyme>',\n",
      "             'Mime-Version': '1.0',\n",
      "             'To': 'tim.belden@enron.com',\n",
      "             'X-FileName': 'pallen (Non-Privileged).pst',\n",
      "             'X-Folder': \"\\\\Phillip_Allen_Jan2002_1\\\\Allen, Phillip K.\\\\'Sent \"\n",
      "                         'Mail',\n",
      "             'X-From': 'Phillip K Allen',\n",
      "             'X-Origin': 'Allen-P',\n",
      "             'X-To': 'Tim Belden <Tim Belden/Enron@EnronXGate>',\n",
      "             'body': 'Here is our forecast\\n\\n '}}\n"
     ]
    }
   ],
   "source": [
    "pprint.pprint(col2.find_one({\"filename\": \"allen-p/_sent_mail/1.\"}))\n",
    "\n",
    "# to get all\n",
    "# for mail in col2.find():\n",
    "#     pprint.pprint(mail)"
   ]
  }
 ],
 "metadata": {
  "kernelspec": {
   "display_name": "Python 3",
   "language": "python",
   "name": "python3"
  },
  "language_info": {
   "codemirror_mode": {
    "name": "ipython",
    "version": 3
   },
   "file_extension": ".py",
   "mimetype": "text/x-python",
   "name": "python",
   "nbconvert_exporter": "python",
   "pygments_lexer": "ipython3",
   "version": "3.7.6"
  }
 },
 "nbformat": 4,
 "nbformat_minor": 4
}
